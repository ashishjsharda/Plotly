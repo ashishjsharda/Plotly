{
 "cells":[
  {
   "cell_type":"code",
   "source":[
    "!pip install plotly"
   ],
   "execution_count":1,
   "outputs":[
    {
     "name":"stdout",
     "text":[
      "Requirement already satisfied: plotly in \/opt\/python\/envs\/default\/lib\/python3.8\/site-packages (5.5.0)\r\n",
      "Requirement already satisfied: tenacity>=6.2.0 in \/opt\/python\/envs\/default\/lib\/python3.8\/site-packages (from plotly) (8.0.1)\r\n",
      "Requirement already satisfied: six in \/opt\/python\/envs\/default\/lib\/python3.8\/site-packages (from plotly) (1.16.0)\r\n",
      "\u001b[33mWARNING: You are using pip version 21.3.1; however, version 22.0.4 is available.\r\n",
      "You should consider upgrading via the '\/opt\/python\/envs\/default\/bin\/python -m pip install --upgrade pip' command.\u001b[0m\r\n"
     ],
     "output_type":"stream"
    }
   ],
   "metadata":{
    "datalore":{
     "type":"CODE",
     "hide_input_from_viewers":false,
     "hide_output_from_viewers":false
    }
   }
  },
  {
   "cell_type":"code",
   "source":[
    "import plotly.graph_objects as go\n",
    "fig = go.Figure(\n",
    "    data=[go.Bar(y=[2, 1, 3])],\n",
    "    layout_title_text=\"Example using Plotly\"\n",
    ")\n",
    "fig"
   ],
   "execution_count":3,
   "outputs":[
    {
     "data":{
      "text\/plain":[
       "Unsupported"
      ]
     },
     "metadata":{
      
     },
     "output_type":"display_data"
    }
   ],
   "metadata":{
    "datalore":{
     "type":"CODE",
     "hide_input_from_viewers":false,
     "hide_output_from_viewers":false
    }
   }
  }
 ],
 "metadata":{
  "datalore":{
   "version":1,
   "computation_mode":"JUPYTER",
   "package_manager":"pip",
   "base_environment":"default",
   "packages":[
    
   ]
  }
 },
 "nbformat":4,
 "nbformat_minor":4
}