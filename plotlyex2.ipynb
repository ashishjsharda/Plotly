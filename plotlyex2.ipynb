{
 "cells":[
  {
   "cell_type":"code",
   "source":[
    "import plotly.express as px\n",
    "data = dict(\n",
    "    number=[100, 27, 40, 11, 2],\n",
    "    stage=[\"New Customers\", \"Churn\", \"Potential customers\", \"Deals Lost\", \"Deals Won\"])\n",
    "fig = px.funnel(data, x='number', y='stage')\n",
    "fig.show()"
   ],
   "execution_count":4,
   "outputs":[
    {
     "data":{
      "text\/plain":[
       "Unsupported"
      ]
     },
     "metadata":{
      
     },
     "output_type":"display_data"
    }
   ],
   "metadata":{
    "datalore":{
     "type":"CODE",
     "hide_input_from_viewers":false,
     "hide_output_from_viewers":false
    }
   }
  }
 ],
 "metadata":{
  "datalore":{
   "version":1,
   "computation_mode":"JUPYTER",
   "package_manager":"pip",
   "base_environment":"default",
   "packages":[
    
   ]
  }
 },
 "nbformat":4,
 "nbformat_minor":4
}